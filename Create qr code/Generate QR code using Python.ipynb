{
 "cells": [
  {
   "cell_type": "markdown",
   "id": "36c9eb9b",
   "metadata": {},
   "source": [
    "# Generate a QR Code using Python"
   ]
  },
  {
   "cell_type": "raw",
   "id": "f18374ca",
   "metadata": {},
   "source": [
    "First install segno package using below mentioned command:\n",
    "\n",
    "python -m pip install segno"
   ]
  },
  {
   "cell_type": "code",
   "execution_count": 23,
   "id": "a450c6ff",
   "metadata": {},
   "outputs": [],
   "source": [
    "import segno"
   ]
  },
  {
   "cell_type": "code",
   "execution_count": 19,
   "id": "59d74063",
   "metadata": {},
   "outputs": [],
   "source": [
    "qrcode = segno.make_qr(\"https://scholar.google.com/citations?user=ANi5zJoAAAAJ&hl=en&authuser=1\")\n",
    "# you can save the image in any format whatever it supports. \n",
    "qrcode.save(\"basic_qrcode.png\", scale = 10) #Scale function to chnage the size of qr code image. "
   ]
  },
  {
   "cell_type": "raw",
   "id": "62ce11ba",
   "metadata": {},
   "source": [
    "Now, we are going to create border for our qr code. it will increase the scannability of qr code using smartphones. using border function, segno puts some black space around the qr code. That black space around the qr code is known as \"Quiet zone\". By default, the size of the quiet zone is four modules on each side.We can remove the black space around qr code by simply assigining the border value as 0. "
   ]
  },
  {
   "cell_type": "code",
   "execution_count": 3,
   "id": "30c52234",
   "metadata": {},
   "outputs": [],
   "source": [
    "qrcode.save(\"border_basic_qrcode.png\", scale = 10, border = 0) # Assigning border value as 0 means no border.\n",
    "#it will generate qr code without any black space around the qr code. "
   ]
  },
  {
   "cell_type": "code",
   "execution_count": 4,
   "id": "a8a89b0b",
   "metadata": {},
   "outputs": [],
   "source": [
    "qrcode.save(\"Border_value=5_qrcode.png\", scale = 10, border = 5)"
   ]
  },
  {
   "cell_type": "markdown",
   "id": "0fe6cbbc",
   "metadata": {},
   "source": [
    "### Coloring the QR code"
   ]
  },
  {
   "cell_type": "code",
   "execution_count": 5,
   "id": "cb663317",
   "metadata": {},
   "outputs": [],
   "source": [
    "# Add light parameter to color the background (quiet zone) of qr code as per your wish.  \n",
    "qrcode.save(\"Blue_qrcode.png\", scale = 10, light=\"lightblue\", border = 10, dark = \"darkblue\")"
   ]
  },
  {
   "cell_type": "code",
   "execution_count": 6,
   "id": "5433130e",
   "metadata": {},
   "outputs": [],
   "source": [
    "# We can color the quiet zone separately using quiet_zone parameter\n",
    "qrcode.save(\"Quiet_qrcode.png\", scale = 10, light=\"lightblue\", border = 10, \n",
    "            dark = \"darkblue\", quiet_zone=\"Red\")"
   ]
  },
  {
   "cell_type": "raw",
   "id": "5a93cbd0",
   "metadata": {},
   "source": [
    "So far, you’ve used the light and dark parameters to change the color of all the white and black modules of the QR code. you can also change the color of the data modules. The data modules are the black and white blocks where the data is actually stored.To change the colors of the dark data modules of the QR code, you can set a color of your choice using data_dark parameter. "
   ]
  },
  {
   "cell_type": "code",
   "execution_count": 7,
   "id": "c6953b46",
   "metadata": {},
   "outputs": [],
   "source": [
    "# We can color the data modules where actual data is stored using data_dark parameter\n",
    "# To change the colors of the light data modules to light gray, you can add data_light=\"lightgray\"\n",
    "qrcode.save(\"data_light_qrcode.png\", scale = 10, light=\"lightblue\", \n",
    "            dark = \"darkblue\", quiet_zone=\"Red\", \n",
    "            data_dark=\"Gray\", data_light=\"lightgray\")"
   ]
  },
  {
   "cell_type": "markdown",
   "id": "7b4b503e",
   "metadata": {},
   "source": [
    "### Rotating the QR Code"
   ]
  },
  {
   "cell_type": "code",
   "execution_count": 8,
   "id": "c3cc04d9",
   "metadata": {},
   "outputs": [],
   "source": [
    "# With Segno, you’re also able to manipulate your QR code by rotating it or adding an animated background"
   ]
  },
  {
   "cell_type": "raw",
   "id": "8b747a0e",
   "metadata": {},
   "source": [
    "Run below mentioned command to perfomance rotating and add animation within QR code \n",
    "\n",
    "pip install qrcode-artistic"
   ]
  },
  {
   "cell_type": "code",
   "execution_count": 30,
   "id": "31b5b9ba",
   "metadata": {},
   "outputs": [],
   "source": [
    "qrcode_rotated= qrcode.to_pil(scale= 10, \n",
    "                              dark=\"blue\", light =\"lightblue\").rotate(45, expand = \"True\")\n",
    "qrcode_rotated.save(\"rotated_qrcode.png\")"
   ]
  },
  {
   "cell_type": "raw",
   "id": "46a1b430",
   "metadata": {},
   "source": [
    "Not only can you change the background color of the QR code, but you can also replace it with a moving image. "
   ]
  },
  {
   "cell_type": "markdown",
   "id": "f3bd66dd",
   "metadata": {},
   "source": [
    "### Creating Animated QR Code"
   ]
  },
  {
   "cell_type": "code",
   "execution_count": 31,
   "id": "93d25046",
   "metadata": {},
   "outputs": [],
   "source": [
    "# We are going to create qr code for my youtube channel and gonna create animate in background using gif file. \n",
    "from urllib.request import urlopen"
   ]
  },
  {
   "cell_type": "code",
   "execution_count": 48,
   "id": "3cee6f98",
   "metadata": {},
   "outputs": [],
   "source": [
    "qr_code_youtube = segno.make_qr(\"https://www.youtube.com/results?search_query=GWU+Kie+Subedi\")\n",
    "qr_code_youtube.save(\"qr_code_youtube and animated.png\", scale = 10, dark=\"lightgreen\")"
   ]
  },
  {
   "cell_type": "code",
   "execution_count": 51,
   "id": "a73b74a4",
   "metadata": {},
   "outputs": [],
   "source": [
    "# animated_qrcode.py\n",
    "\n",
    "import segno\n",
    "from urllib.request import urlopen\n",
    "\n",
    "slts_qrcode = segno.make_qr(\"https://www.youtube.com/channel/UCVS_kObXGUgXoPPu9rCWs_g\")\n",
    "nirvana_url = urlopen(\"https://media.giphy.com/media/LpwBqCorPvZC0/giphy.gif\")\n",
    "slts_qrcode.to_artistic(\n",
    "    background=nirvana_url,\n",
    "    target=\"animated_qrcode.gif\",\n",
    "    scale=5,\n",
    ")"
   ]
  },
  {
   "cell_type": "code",
   "execution_count": 52,
   "id": "aa9ac74f",
   "metadata": {},
   "outputs": [],
   "source": [
    "# Here, you can see that, i have created a animated QR code of my youtube video (GW video) \n",
    "#background contain GW Anime\n",
    "qrcode = segno.make('https://www.youtube.com/watch?v=3CyE865MjUU')\n",
    "qrcode.to_artistic(background='giphy.gif', target='my_youtube.gif', scale=8)"
   ]
  },
  {
   "cell_type": "code",
   "execution_count": null,
   "id": "8cbfecff",
   "metadata": {},
   "outputs": [],
   "source": []
  }
 ],
 "metadata": {
  "kernelspec": {
   "display_name": "Python 3 (ipykernel)",
   "language": "python",
   "name": "python3"
  },
  "language_info": {
   "codemirror_mode": {
    "name": "ipython",
    "version": 3
   },
   "file_extension": ".py",
   "mimetype": "text/x-python",
   "name": "python",
   "nbconvert_exporter": "python",
   "pygments_lexer": "ipython3",
   "version": "3.9.16"
  }
 },
 "nbformat": 4,
 "nbformat_minor": 5
}
